{
 "cells": [
  {
   "cell_type": "code",
   "execution_count": 1,
   "metadata": {},
   "outputs": [],
   "source": [
    "import pandas as pd\n",
    "import plotly.graph_objects as go\n",
    "import plotly.io as pio\n",
    "import webbrowser\n",
    "from plotly.subplots import make_subplots\n",
    "\n",
    "\n",
    "import matplotlib\n",
    "matplotlib.use(\"Agg\")\n",
    "import matplotlib.pyplot as plt\n",
    "import base64\n",
    "import numpy as np\n",
    "\n",
    "from io import BytesIO"
   ]
  },
  {
   "cell_type": "code",
   "execution_count": 3,
   "metadata": {},
   "outputs": [],
   "source": [
    "# Setup of envrionment\n",
    "# Use 3 decimal places in output display\n",
    "pd.set_option(\"display.precision\", 3)\n",
    "\n",
    "# Don't wrap repr(DataFrame) across additional lines\n",
    "pd.set_option(\"display.expand_frame_repr\", False)\n",
    "\n",
    "# Set max rows displayed in output to 25\n",
    "pd.set_option(\"display.max_rows\", 25)\n",
    "\n",
    "pio.renderers.default = \"browser\""
   ]
  },
  {
   "cell_type": "code",
   "execution_count": 5,
   "metadata": {},
   "outputs": [],
   "source": [
    "hgs_file = r\"hgs_k.csv\"\n",
    "qe_file = r\"qe_k.csv\"\n",
    "df_qe = pd.read_csv(qe_file, na_values=['.'], sep=\";\", engine='python')\n",
    "df_hgs = pd.read_csv(hgs_file, na_values=['.'], sep=\";\", engine='python')"
   ]
  },
  {
   "cell_type": "code",
   "execution_count": null,
   "metadata": {},
   "outputs": [],
   "source": [
    "# Clean up data\n",
    "df_hgs['NewK'] = pd.to_numeric(df_hgs.K, errors='coerce')\n",
    "df_qe['NewK'] = pd.to_numeric(df_qe.K, errors='coerce')\n",
    "\n",
    "df_hgs.DTR = pd.to_datetime(df_hgs.DTR, errors='coerce')\n",
    "df_qe.DTR = pd.to_datetime(df_qe.DTR, errors='coerce')\n",
    "\n",
    "df_hgs.DTC = pd.to_datetime(df_hgs.DTC, errors='coerce')\n",
    "df_qe.DTC = pd.to_datetime(df_qe.DTC, errors='coerce')\n",
    "\n",
    "df_hgs.FDRPORT = pd.to_datetime(df_hgs.FDRPORT, errors='coerce')\n",
    "df_qe.FDRPORT = pd.to_datetime(df_qe.FDRPORT, errors='coerce')\n",
    "\n",
    "df_hgs.FDR = pd.to_datetime(df_hgs.FDR, errors='coerce')\n",
    "df_qe.FDR = pd.to_datetime(df_qe.FDR, errors='coerce')\n",
    "\n",
    "df_hgs.FDAUTH = pd.to_datetime(df_hgs.FDAUTH, errors='coerce')\n",
    "df_qe.FDAUTH = pd.to_datetime(df_qe.FDAUTH, errors='coerce')\n",
    "\n",
    "df_qe['TravelTime'] = (df_qe.DTR-df_qe.DTC).astype('timedelta64[h]')\n",
    "df_hgs['TravelTime'] = (df_hgs.DTR-df_hgs.DTC).astype('timedelta64[h]')\n",
    "\n",
    "df_qe['TravelTime'] = (df_qe.DTR-df_qe.DTC).astype('timedelta64[h]')\n",
    "df_hgs['TravelTime'] = (df_hgs.DTR-df_hgs.DTC).astype('timedelta64[h]')"
   ]
  },
  {
   "cell_type": "code",
   "execution_count": null,
   "metadata": {},
   "outputs": [],
   "source": []
  }
 ],
 "metadata": {
  "kernelspec": {
   "display_name": "Python 3.8.1 64-bit",
   "language": "python",
   "name": "python38164bit785238f56ab24be9b32d63b20c5f0526"
  },
  "language_info": {
   "codemirror_mode": {
    "name": "ipython",
    "version": 3
   },
   "file_extension": ".py",
   "mimetype": "text/x-python",
   "name": "python",
   "nbconvert_exporter": "python",
   "pygments_lexer": "ipython3",
   "version": "3.8.1"
  }
 },
 "nbformat": 4,
 "nbformat_minor": 4
}
